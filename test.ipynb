{
 "cells": [
  {
   "cell_type": "code",
   "execution_count": 1,
   "metadata": {},
   "outputs": [],
   "source": [
    "import scipy.io as scio\n",
    "u = scio.loadmat('./u.mat')['u']\n",
    "v = scio.loadmat('./v.mat')['v']"
   ]
  },
  {
   "cell_type": "code",
   "execution_count": 2,
   "metadata": {},
   "outputs": [],
   "source": [
    "import numpy as np\n",
    "from data.utils import *\n",
    "b = np.square(u - v)/(np.square(u) + 1e-8)\n",
    "real = b[:,0,:,:]\n",
    "imag = b[:,1,:,:]"
   ]
  },
  {
   "cell_type": "code",
   "execution_count": 19,
   "metadata": {},
   "outputs": [
    {
     "name": "stdout",
     "output_type": "stream",
     "text": [
      "tensor([ 0.5852,  0.6956, -0.1548, -2.3408, -0.2537,  1.7729, -1.4512, -0.5147,\n",
      "         0.5154,  0.5306,  0.4646, -1.0786, -1.5753,  0.5160, -0.3215,  1.3761])\n"
     ]
    }
   ],
   "source": [
    "x = torch.randn(4, 4)\n",
    "y = x.view(16)\n",
    "print(y)"
   ]
  },
  {
   "cell_type": "code",
   "execution_count": 28,
   "metadata": {},
   "outputs": [
    {
     "name": "stdout",
     "output_type": "stream",
     "text": [
      "[2.3152650e+09 8.0777549e+08 7.5428986e+08 6.2026272e+08 3.2672493e+08\n",
      " 1.9763874e+08 1.6569104e+08 8.4094168e+07 5.7750728e+07 3.5558116e+07]\n",
      "------------------------------------------------------------\n",
      "[[  0.   1. 104. 235.]\n",
      " [  0.   0. 228. 179.]\n",
      " [  0.   1.   1.  67.]\n",
      " [  0.   1. 137. 117.]\n",
      " [  0.   1.  18.  61.]\n",
      " [  0.   1.  66.  25.]\n",
      " [  0.   0.  23.  83.]\n",
      " [  0.   0.  27. 178.]\n",
      " [  0.   1.  50.  83.]\n",
      " [  0.   1. 227.  34.]]\n"
     ]
    }
   ],
   "source": [
    "import numpy as np\n",
    "\n",
    "# 创建一个(1,2,256,256)的随机张量\n",
    "x = b\n",
    "# print(x.shape)\n",
    "# 展平张量为一个一维向量\n",
    "x_flat = x.reshape(-1)\n",
    "top_n=10\n",
    "# 找到前10个最大值及其对应的索引\n",
    "top_indices = np.argsort(x_flat)[::-1][:top_n]\n",
    "max_values = x_flat[top_indices]\n",
    "\n",
    "# 将一维索引转换回四维坐标\n",
    "coord_4d = np.zeros((10, 4))\n",
    "for i, idx in enumerate(top_indices):\n",
    "    coord_4d[i,:] = np.unravel_index(idx, (1,2,256,256))\n",
    "\n",
    "print(max_values)\n",
    "print('------------------------------------------------------------')\n",
    "print(coord_4d)\n"
   ]
  },
  {
   "cell_type": "code",
   "execution_count": 47,
   "metadata": {},
   "outputs": [
    {
     "name": "stdout",
     "output_type": "stream",
     "text": [
      "205\n"
     ]
    }
   ],
   "source": [
    "import numpy as np\n",
    "\n",
    "count = np.count_nonzero(x > 1e5)\n",
    "print(count)"
   ]
  },
  {
   "cell_type": "code",
   "execution_count": 52,
   "metadata": {},
   "outputs": [],
   "source": [
    "import numpy as np\n",
    "\n",
    "# 创建一个(1,2,256,256)的随机张量\n",
    "x = b\n",
    "# print(x.shape)\n",
    "# 展平张量为一个一维向量\n",
    "x_flat = x.reshape(-1)\n",
    "top_n=205\n",
    "# 找到前10个最大值及其对应的索引\n",
    "top_indices = np.argsort(x_flat)[::-1][:top_n]\n",
    "max_values = x_flat[top_indices]\n",
    "\n",
    "# 将一维索引转换回四维坐标\n",
    "coord_4d = np.zeros((top_n, 4))\n",
    "for i, idx in enumerate(top_indices):\n",
    "    coord_4d[i,:] = np.unravel_index(idx, (1,2,256,256))\n",
    "\n",
    "# print(max_values)\n",
    "# print('------------------------------------------------------------')\n",
    "# print(coord_4d)\n",
    "# print(coord_4d)\n"
   ]
  },
  {
   "cell_type": "code",
   "execution_count": 65,
   "metadata": {},
   "outputs": [
    {
     "data": {
      "text/plain": [
       "<matplotlib.image.AxesImage at 0x7f9aaff822f0>"
      ]
     },
     "execution_count": 65,
     "metadata": {},
     "output_type": "execute_result"
    },
    {
     "data": {
      "image/png": "[encoded data removed]",
      "image/svg+xml": "<?xml version=\"1.0\" encoding=\"utf-8\" standalone=\"no\"?>\n<!DOCTYPE svg PUBLIC \"-//W3C//DTD SVG 1.1//EN\"\n  \"http://www.w3.org/Graphics/SVG/1.1/DTD/svg11.dtd\">\n<svg xmlns:xlink=\"http://www.w3.org/1999/xlink\" width=\"310.426pt\" height=\"300.469594pt\" viewBox=\"0 0 310.426 300.469594\" xmlns=\"http://www.w3.org/2000/svg\" version=\"1.1\">\n <metadata>\n  <rdf:RDF xmlns:dc=\"http://purl.org/dc/elements/1.1/\" xmlns:cc=\"http://creativecommons.org/ns#\" xmlns:rdf=\"http://www.w3.org/1999/02/22-rdf-syntax-ns#\">\n   <cc:Work>\n    <dc:type rdf:resource=\"http://purl.org/dc/dcmitype/StillImage\"/>\n    <dc:date>2023-03-30T22:23:16.643862</dc:date>\n    <dc:format>image/svg+xml</dc:format>\n    <dc:creator>\n     <cc:Agent>\n      <dc:title>Matplotlib v3.7.0, https://matplotlib.org/</dc:title>\n     </cc:Agent>\n    </dc:creator>\n   </cc:Work>\n  </rdf:RDF>\n </metadata>\n <defs>\n  <style type=\"text/css\">*{stroke-linejoin: round; stroke-linecap: butt}</style>\n </defs>\n <g id=\"figure_1\">\n  <g id=\"patch_1\">\n   <path d=\"M 0 300.469594 \nL 310.426 300.469594 \nL 310.426 0 \nL 0 0 \nz\n\" style=\"fill: #ffffff\"/>\n  </g>\n  <g id=\"axes_1\">\n   <g id=\"patch_2\">\n    <path d=\"M 33.2875 276.591469 \nL 299.3995 276.591469 \nL 299.3995 10.479469 \nL 33.2875 10.479469 \nz\n\" style=\"fill: #ffffff\"/>\n   </g>\n   <g clip-path=\"url(#p64c2847148)\">\n    <image xlink:href=\"data:image/png;base64,\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\" id=\"image13aaced9fd\" transform=\"scale(1 -1) translate(0 -266.4)\" x=\"33.2875\" y=\"-10.191469\" width=\"266.4\" height=\"266.4\"/>\n   </g>\n   <g id=\"matplotlib.axis_1\">\n    <g id=\"xtick_1\">\n     <g id=\"line2d_1\">\n      <defs>\n       <path id=\"m56cf765d7b\" d=\"M 0 0 \nL 0 3.5 \n\" style=\"stroke: #000000; stroke-width: 0.8\"/>\n      </defs>\n      <g>\n       <use xlink:href=\"#m56cf765d7b\" x=\"33.80725\" y=\"276.591469\" style=\"stroke: #000000; stroke-width: 0.8\"/>\n      </g>\n     </g>\n     <g id=\"text_1\">\n      <!-- 0 -->\n      <g transform=\"translate(30.626 291.189906) scale(0.1 -0.1)\">\n       <defs>\n        <path id=\"DejaVuSans-30\" d=\"M 2034 4250 \nQ 1547 4250 1301 3770 \nQ 1056 3291 1056 2328 \nQ 1056 1369 1301 889 \nQ 1547 409 2034 409 \nQ 2525 409 2770 889 \nQ 3016 1369 3016 2328 \nQ 3016 3291 2770 3770 \nQ 2525 4250 2034 4250 \nz\nM 2034 4750 \nQ 2819 4750 3233 4129 \nQ 3647 3509 3647 2328 \nQ 3647 1150 3233 529 \nQ 2819 -91 2034 -91 \nQ 1250 -91 836 529 \nQ 422 1150 422 2328 \nQ 422 3509 836 4129 \nQ 1250 4750 2034 4750 \nz\n\" transform=\"scale(0.015625)\"/>\n       </defs>\n       <use xlink:href=\"#DejaVuSans-30\"/>\n      </g>\n     </g>\n    </g>\n    <g id=\"xtick_2\">\n     <g id=\"line2d_2\">\n      <g>\n       <use xlink:href=\"#m56cf765d7b\" x=\"85.78225\" y=\"276.591469\" style=\"stroke: #000000; stroke-width: 0.8\"/>\n      </g>\n     </g>\n     <g id=\"text_2\">\n      <!-- 50 -->\n      <g transform=\"translate(79.41975 291.189906) scale(0.1 -0.1)\">\n       <defs>\n        <path id=\"DejaVuSans-35\" d=\"M 691 4666 \nL 3169 4666 \nL 3169 4134 \nL 1269 4134 \nL 1269 2991 \nQ 1406 3038 1543 3061 \nQ 1681 3084 1819 3084 \nQ 2600 3084 3056 2656 \nQ 3513 2228 3513 1497 \nQ 3513 744 3044 326 \nQ 2575 -91 1722 -91 \nQ 1428 -91 1123 -41 \nQ 819 9 494 109 \nL 494 744 \nQ 775 591 1075 516 \nQ 1375 441 1709 441 \nQ 2250 441 2565 725 \nQ 2881 1009 2881 1497 \nQ 2881 1984 2565 2268 \nQ 2250 2553 1709 2553 \nQ 1456 2553 1204 2497 \nQ 953 2441 691 2322 \nL 691 4666 \nz\n\" transform=\"scale(0.015625)\"/>\n       </defs>\n       <use xlink:href=\"#DejaVuSans-35\"/>\n       <use xlink:href=\"#DejaVuSans-30\" x=\"63.623047\"/>\n      </g>\n     </g>\n    </g>\n    <g id=\"xtick_3\">\n     <g id=\"line2d_3\">\n      <g>\n       <use xlink:href=\"#m56cf765d7b\" x=\"137.75725\" y=\"276.591469\" style=\"stroke: #000000; stroke-width: 0.8\"/>\n      </g>\n     </g>\n     <g id=\"text_3\">\n      <!-- 100 -->\n      <g transform=\"translate(128.2135 291.189906) scale(0.1 -0.1)\">\n       <defs>\n        <path id=\"DejaVuSans-31\" d=\"M 794 531 \nL 1825 531 \nL 1825 4091 \nL 703 3866 \nL 703 4441 \nL 1819 4666 \nL 2450 4666 \nL 2450 531 \nL 3481 531 \nL 3481 0 \nL 794 0 \nL 794 531 \nz\n\" transform=\"scale(0.015625)\"/>\n       </defs>\n       <use xlink:href=\"#DejaVuSans-31\"/>\n       <use xlink:href=\"#DejaVuSans-30\" x=\"63.623047\"/>\n       <use xlink:href=\"#DejaVuSans-30\" x=\"127.246094\"/>\n      </g>\n     </g>\n    </g>\n    <g id=\"xtick_4\">\n     <g id=\"line2d_4\">\n      <g>\n       <use xlink:href=\"#m56cf765d7b\" x=\"189.73225\" y=\"276.591469\" style=\"stroke: #000000; stroke-width: 0.8\"/>\n      </g>\n     </g>\n     <g id=\"text_4\">\n      <!-- 150 -->\n      <g transform=\"translate(180.1885 291.189906) scale(0.1 -0.1)\">\n       <use xlink:href=\"#DejaVuSans-31\"/>\n       <use xlink:href=\"#DejaVuSans-35\" x=\"63.623047\"/>\n       <use xlink:href=\"#DejaVuSans-30\" x=\"127.246094\"/>\n      </g>\n     </g>\n    </g>\n    <g id=\"xtick_5\">\n     <g id=\"line2d_5\">\n      <g>\n       <use xlink:href=\"#m56cf765d7b\" x=\"241.70725\" y=\"276.591469\" style=\"stroke: #000000; stroke-width: 0.8\"/>\n      </g>\n     </g>\n     <g id=\"text_5\">\n      <!-- 200 -->\n      <g transform=\"translate(232.1635 291.189906) scale(0.1 -0.1)\">\n       <defs>\n        <path id=\"DejaVuSans-32\" d=\"M 1228 531 \nL 3431 531 \nL 3431 0 \nL 469 0 \nL 469 531 \nQ 828 903 1448 1529 \nQ 2069 2156 2228 2338 \nQ 2531 2678 2651 2914 \nQ 2772 3150 2772 3378 \nQ 2772 3750 2511 3984 \nQ 2250 4219 1831 4219 \nQ 1534 4219 1204 4116 \nQ 875 4013 500 3803 \nL 500 4441 \nQ 881 4594 1212 4672 \nQ 1544 4750 1819 4750 \nQ 2544 4750 2975 4387 \nQ 3406 4025 3406 3419 \nQ 3406 3131 3298 2873 \nQ 3191 2616 2906 2266 \nQ 2828 2175 2409 1742 \nQ 1991 1309 1228 531 \nz\n\" transform=\"scale(0.015625)\"/>\n       </defs>\n       <use xlink:href=\"#DejaVuSans-32\"/>\n       <use xlink:href=\"#DejaVuSans-30\" x=\"63.623047\"/>\n       <use xlink:href=\"#DejaVuSans-30\" x=\"127.246094\"/>\n      </g>\n     </g>\n    </g>\n    <g id=\"xtick_6\">\n     <g id=\"line2d_6\">\n      <g>\n       <use xlink:href=\"#m56cf765d7b\" x=\"293.68225\" y=\"276.591469\" style=\"stroke: #000000; stroke-width: 0.8\"/>\n      </g>\n     </g>\n     <g id=\"text_6\">\n      <!-- 250 -->\n      <g transform=\"translate(284.1385 291.189906) scale(0.1 -0.1)\">\n       <use xlink:href=\"#DejaVuSans-32\"/>\n       <use xlink:href=\"#DejaVuSans-35\" x=\"63.623047\"/>\n       <use xlink:href=\"#DejaVuSans-30\" x=\"127.246094\"/>\n      </g>\n     </g>\n    </g>\n   </g>\n   <g id=\"matplotlib.axis_2\">\n    <g id=\"ytick_1\">\n     <g id=\"line2d_7\">\n      <defs>\n       <path id=\"m0d9c42f611\" d=\"M 0 0 \nL -3.5 0 \n\" style=\"stroke: #000000; stroke-width: 0.8\"/>\n      </defs>\n      <g>\n       <use xlink:href=\"#m0d9c42f611\" x=\"33.2875\" y=\"10.999219\" style=\"stroke: #000000; stroke-width: 0.8\"/>\n      </g>\n     </g>\n     <g id=\"text_7\">\n      <!-- 0 -->\n      <g transform=\"translate(19.925 14.798437) scale(0.1 -0.1)\">\n       <use xlink:href=\"#DejaVuSans-30\"/>\n      </g>\n     </g>\n    </g>\n    <g id=\"ytick_2\">\n     <g id=\"line2d_8\">\n      <g>\n       <use xlink:href=\"#m0d9c42f611\" x=\"33.2875\" y=\"62.974219\" style=\"stroke: #000000; stroke-width: 0.8\"/>\n      </g>\n     </g>\n     <g id=\"text_8\">\n      <!-- 50 -->\n      <g transform=\"translate(13.5625 66.773437) scale(0.1 -0.1)\">\n       <use xlink:href=\"#DejaVuSans-35\"/>\n       <use xlink:href=\"#DejaVuSans-30\" x=\"63.623047\"/>\n      </g>\n     </g>\n    </g>\n    <g id=\"ytick_3\">\n     <g id=\"line2d_9\">\n      <g>\n       <use xlink:href=\"#m0d9c42f611\" x=\"33.2875\" y=\"114.949219\" style=\"stroke: #000000; stroke-width: 0.8\"/>\n      </g>\n     </g>\n     <g id=\"text_9\">\n      <!-- 100 -->\n      <g transform=\"translate(7.2 118.748437) scale(0.1 -0.1)\">\n       <use xlink:href=\"#DejaVuSans-31\"/>\n       <use xlink:href=\"#DejaVuSans-30\" x=\"63.623047\"/>\n       <use xlink:href=\"#DejaVuSans-30\" x=\"127.246094\"/>\n      </g>\n     </g>\n    </g>\n    <g id=\"ytick_4\">\n     <g id=\"line2d_10\">\n      <g>\n       <use xlink:href=\"#m0d9c42f611\" x=\"33.2875\" y=\"166.924219\" style=\"stroke: #000000; stroke-width: 0.8\"/>\n      </g>\n     </g>\n     <g id=\"text_10\">\n      <!-- 150 -->\n      <g transform=\"translate(7.2 170.723437) scale(0.1 -0.1)\">\n       <use xlink:href=\"#DejaVuSans-31\"/>\n       <use xlink:href=\"#DejaVuSans-35\" x=\"63.623047\"/>\n       <use xlink:href=\"#DejaVuSans-30\" x=\"127.246094\"/>\n      </g>\n     </g>\n    </g>\n    <g id=\"ytick_5\">\n     <g id=\"line2d_11\">\n      <g>\n       <use xlink:href=\"#m0d9c42f611\" x=\"33.2875\" y=\"218.899219\" style=\"stroke: #000000; stroke-width: 0.8\"/>\n      </g>\n     </g>\n     <g id=\"text_11\">\n      <!-- 200 -->\n      <g transform=\"translate(7.2 222.698437) scale(0.1 -0.1)\">\n       <use xlink:href=\"#DejaVuSans-32\"/>\n       <use xlink:href=\"#DejaVuSans-30\" x=\"63.623047\"/>\n       <use xlink:href=\"#DejaVuSans-30\" x=\"127.246094\"/>\n      </g>\n     </g>\n    </g>\n    <g id=\"ytick_6\">\n     <g id=\"line2d_12\">\n      <g>\n       <use xlink:href=\"#m0d9c42f611\" x=\"33.2875\" y=\"270.874219\" style=\"stroke: #000000; stroke-width: 0.8\"/>\n      </g>\n     </g>\n     <g id=\"text_12\">\n      <!-- 250 -->\n      <g transform=\"translate(7.2 274.673437) scale(0.1 -0.1)\">\n       <use xlink:href=\"#DejaVuSans-32\"/>\n       <use xlink:href=\"#DejaVuSans-35\" x=\"63.623047\"/>\n       <use xlink:href=\"#DejaVuSans-30\" x=\"127.246094\"/>\n      </g>\n     </g>\n    </g>\n   </g>\n   <g id=\"patch_3\">\n    <path d=\"M 33.2875 276.591469 \nL 33.2875 10.479469 \n\" style=\"fill: none; stroke: #000000; stroke-width: 0.8; stroke-linejoin: miter; stroke-linecap: square\"/>\n   </g>\n   <g id=\"patch_4\">\n    <path d=\"M 299.3995 276.591469 \nL 299.3995 10.479469 \n\" style=\"fill: none; stroke: #000000; stroke-width: 0.8; stroke-linejoin: miter; stroke-linecap: square\"/>\n   </g>\n   <g id=\"patch_5\">\n    <path d=\"M 33.2875 276.591469 \nL 299.3995 276.591469 \n\" style=\"fill: none; stroke: #000000; stroke-width: 0.8; stroke-linejoin: miter; stroke-linecap: square\"/>\n   </g>\n   <g id=\"patch_6\">\n    <path d=\"M 33.2875 10.479469 \nL 299.3995 10.479469 \n\" style=\"fill: none; stroke: #000000; stroke-width: 0.8; stroke-linejoin: miter; stroke-linecap: square\"/>\n   </g>\n  </g>\n </g>\n <defs>\n  <clipPath id=\"p64c2847148\">\n   <rect x=\"33.2875\" y=\"10.479469\" width=\"266.112\" height=\"266.112\"/>\n  </clipPath>\n </defs>\n</svg>\n",
      "text/plain": [
       "<Figure size 640x480 with 1 Axes>"
      ]
     },
     "metadata": {},
     "output_type": "display_data"
    }
   ],
   "source": [
    "new_ind=coord_4d[:,2:]\n",
    "new_ind=new_ind.astype(int)\n",
    "\n",
    "# print(new_ind)\n",
    "a=np.zeros((256,256))\n",
    "a[new_ind[:, 0], new_ind[:, 1]] = 1\n",
    "\n",
    "import matplotlib.pyplot as plt\n",
    "plt.imshow(a,cmap='gray')\n",
    "# print(np.unique(a))\n"
   ]
  },
  {
   "cell_type": "code",
   "execution_count": 76,
   "metadata": {},
   "outputs": [
    {
     "data": {
      "text/plain": [
       "Text(0.5, 1.0, 'imag_part')"
      ]
     },
     "execution_count": 76,
     "metadata": {},
     "output_type": "execute_result"
    },
    {
     "data": {
      "image/png": "[encoded data removed]",
      "image/svg+xml": "<?xml version=\"1.0\" encoding=\"utf-8\" standalone=\"no\"?>\n<!DOCTYPE svg PUBLIC \"-//W3C//DTD SVG 1.1//EN\"\n  \"http://www.w3.org/Graphics/SVG/1.1/DTD/svg11.dtd\">\n<svg xmlns:xlink=\"http://www.w3.org/1999/xlink\" width=\"397.6075pt\" height=\"208.523523pt\" viewBox=\"0 0 397.6075 208.523523\" xmlns=\"http://www.w3.org/2000/svg\" version=\"1.1\">\n <metadata>\n  <rdf:RDF xmlns:dc=\"http://purl.org/dc/elements/1.1/\" xmlns:cc=\"http://creativecommons.org/ns#\" xmlns:rdf=\"http://www.w3.org/1999/02/22-rdf-syntax-ns#\">\n   <cc:Work>\n    <dc:type rdf:resource=\"http://purl.org/dc/dcmitype/StillImage\"/>\n    <dc:date>2023-03-30T22:28:32.531220</dc:date>\n    <dc:format>image/svg+xml</dc:format>\n    <dc:creator>\n     <cc:Agent>\n      <dc:title>Matplotlib v3.7.0, https://matplotlib.org/</dc:title>\n     </cc:Agent>\n    </dc:creator>\n   </cc:Work>\n  </rdf:RDF>\n </metadata>\n <defs>\n  <style type=\"text/css\">*{stroke-linejoin: round; stroke-linecap: butt}</style>\n </defs>\n <g id=\"figure_1\">\n  <g id=\"patch_1\">\n   <path d=\"M 0 208.523523 \nL 397.6075 208.523523 \nL 397.6075 -0 \nL 0 -0 \nz\n\" style=\"fill: #ffffff\"/>\n  </g>\n  <g id=\"axes_1\">\n   <g id=\"patch_2\">\n    <path d=\"M 33.2875 184.645398 \nL 195.614773 184.645398 \nL 195.614773 22.318125 \nL 33.2875 22.318125 \nz\n\" style=\"fill: #ffffff\"/>\n   </g>\n   <g clip-path=\"url(#pc9d01ff122)\">\n    <image xlink:href=\"data:image/png;base64,\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\" id=\"image1835211a4e\" transform=\"scale(1 -1) translate(0 -162.72)\" x=\"33.2875\" y=\"-21.925398\" width=\"162.72\" height=\"162.72\"/>\n   </g>\n   <g id=\"matplotlib.axis_1\">\n    <g id=\"xtick_1\">\n     <g id=\"line2d_1\">\n      <defs>\n       <path id=\"md626552d79\" d=\"M 0 0 \nL 0 3.5 \n\" style=\"stroke: #000000; stroke-width: 0.8\"/>\n      </defs>\n      <g>\n       <use xlink:href=\"#md626552d79\" x=\"33.604545\" y=\"184.645398\" style=\"stroke: #000000; stroke-width: 0.8\"/>\n      </g>\n     </g>\n     <g id=\"text_1\">\n      <!-- 0 -->\n      <g transform=\"translate(30.423295 199.243835) scale(0.1 -0.1)\">\n       <defs>\n        <path id=\"DejaVuSans-30\" d=\"M 2034 4250 \nQ 1547 4250 1301 3770 \nQ 1056 3291 1056 2328 \nQ 1056 1369 1301 889 \nQ 1547 409 2034 409 \nQ 2525 409 2770 889 \nQ 3016 1369 3016 2328 \nQ 3016 3291 2770 3770 \nQ 2525 4250 2034 4250 \nz\nM 2034 4750 \nQ 2819 4750 3233 4129 \nQ 3647 3509 3647 2328 \nQ 3647 1150 3233 529 \nQ 2819 -91 2034 -91 \nQ 1250 -91 836 529 \nQ 422 1150 422 2328 \nQ 422 3509 836 4129 \nQ 1250 4750 2034 4750 \nz\n\" transform=\"scale(0.015625)\"/>\n       </defs>\n       <use xlink:href=\"#DejaVuSans-30\"/>\n      </g>\n     </g>\n    </g>\n    <g id=\"xtick_2\">\n     <g id=\"line2d_2\">\n      <g>\n       <use xlink:href=\"#md626552d79\" x=\"97.013636\" y=\"184.645398\" style=\"stroke: #000000; stroke-width: 0.8\"/>\n      </g>\n     </g>\n     <g id=\"text_2\">\n      <!-- 100 -->\n      <g transform=\"translate(87.469886 199.243835) scale(0.1 -0.1)\">\n       <defs>\n        <path id=\"DejaVuSans-31\" d=\"M 794 531 \nL 1825 531 \nL 1825 4091 \nL 703 3866 \nL 703 4441 \nL 1819 4666 \nL 2450 4666 \nL 2450 531 \nL 3481 531 \nL 3481 0 \nL 794 0 \nL 794 531 \nz\n\" transform=\"scale(0.015625)\"/>\n       </defs>\n       <use xlink:href=\"#DejaVuSans-31\"/>\n       <use xlink:href=\"#DejaVuSans-30\" x=\"63.623047\"/>\n       <use xlink:href=\"#DejaVuSans-30\" x=\"127.246094\"/>\n      </g>\n     </g>\n    </g>\n    <g id=\"xtick_3\">\n     <g id=\"line2d_3\">\n      <g>\n       <use xlink:href=\"#md626552d79\" x=\"160.422727\" y=\"184.645398\" style=\"stroke: #000000; stroke-width: 0.8\"/>\n      </g>\n     </g>\n     <g id=\"text_3\">\n      <!-- 200 -->\n      <g transform=\"translate(150.878977 199.243835) scale(0.1 -0.1)\">\n       <defs>\n        <path id=\"DejaVuSans-32\" d=\"M 1228 531 \nL 3431 531 \nL 3431 0 \nL 469 0 \nL 469 531 \nQ 828 903 1448 1529 \nQ 2069 2156 2228 2338 \nQ 2531 2678 2651 2914 \nQ 2772 3150 2772 3378 \nQ 2772 3750 2511 3984 \nQ 2250 4219 1831 4219 \nQ 1534 4219 1204 4116 \nQ 875 4013 500 3803 \nL 500 4441 \nQ 881 4594 1212 4672 \nQ 1544 4750 1819 4750 \nQ 2544 4750 2975 4387 \nQ 3406 4025 3406 3419 \nQ 3406 3131 3298 2873 \nQ 3191 2616 2906 2266 \nQ 2828 2175 2409 1742 \nQ 1991 1309 1228 531 \nz\n\" transform=\"scale(0.015625)\"/>\n       </defs>\n       <use xlink:href=\"#DejaVuSans-32\"/>\n       <use xlink:href=\"#DejaVuSans-30\" x=\"63.623047\"/>\n       <use xlink:href=\"#DejaVuSans-30\" x=\"127.246094\"/>\n      </g>\n     </g>\n    </g>\n   </g>\n   <g id=\"matplotlib.axis_2\">\n    <g id=\"ytick_1\">\n     <g id=\"line2d_4\">\n      <defs>\n       <path id=\"m0b12f06bdf\" d=\"M 0 0 \nL -3.5 0 \n\" style=\"stroke: #000000; stroke-width: 0.8\"/>\n      </defs>\n      <g>\n       <use xlink:href=\"#m0b12f06bdf\" x=\"33.2875\" y=\"22.63517\" style=\"stroke: #000000; stroke-width: 0.8\"/>\n      </g>\n     </g>\n     <g id=\"text_4\">\n      <!-- 0 -->\n      <g transform=\"translate(19.925 26.434389) scale(0.1 -0.1)\">\n       <use xlink:href=\"#DejaVuSans-30\"/>\n      </g>\n     </g>\n    </g>\n    <g id=\"ytick_2\">\n     <g id=\"line2d_5\">\n      <g>\n       <use xlink:href=\"#m0b12f06bdf\" x=\"33.2875\" y=\"54.339716\" style=\"stroke: #000000; stroke-width: 0.8\"/>\n      </g>\n     </g>\n     <g id=\"text_5\">\n      <!-- 50 -->\n      <g transform=\"translate(13.5625 58.138935) scale(0.1 -0.1)\">\n       <defs>\n        <path id=\"DejaVuSans-35\" d=\"M 691 4666 \nL 3169 4666 \nL 3169 4134 \nL 1269 4134 \nL 1269 2991 \nQ 1406 3038 1543 3061 \nQ 1681 3084 1819 3084 \nQ 2600 3084 3056 2656 \nQ 3513 2228 3513 1497 \nQ 3513 744 3044 326 \nQ 2575 -91 1722 -91 \nQ 1428 -91 1123 -41 \nQ 819 9 494 109 \nL 494 744 \nQ 775 591 1075 516 \nQ 1375 441 1709 441 \nQ 2250 441 2565 725 \nQ 2881 1009 2881 1497 \nQ 2881 1984 2565 2268 \nQ 2250 2553 1709 2553 \nQ 1456 2553 1204 2497 \nQ 953 2441 691 2322 \nL 691 4666 \nz\n\" transform=\"scale(0.015625)\"/>\n       </defs>\n       <use xlink:href=\"#DejaVuSans-35\"/>\n       <use xlink:href=\"#DejaVuSans-30\" x=\"63.623047\"/>\n      </g>\n     </g>\n    </g>\n    <g id=\"ytick_3\">\n     <g id=\"line2d_6\">\n      <g>\n       <use xlink:href=\"#m0b12f06bdf\" x=\"33.2875\" y=\"86.044261\" style=\"stroke: #000000; stroke-width: 0.8\"/>\n      </g>\n     </g>\n     <g id=\"text_6\">\n      <!-- 100 -->\n      <g transform=\"translate(7.2 89.84348) scale(0.1 -0.1)\">\n       <use xlink:href=\"#DejaVuSans-31\"/>\n       <use xlink:href=\"#DejaVuSans-30\" x=\"63.623047\"/>\n       <use xlink:href=\"#DejaVuSans-30\" x=\"127.246094\"/>\n      </g>\n     </g>\n    </g>\n    <g id=\"ytick_4\">\n     <g id=\"line2d_7\">\n      <g>\n       <use xlink:href=\"#m0b12f06bdf\" x=\"33.2875\" y=\"117.748807\" style=\"stroke: #000000; stroke-width: 0.8\"/>\n      </g>\n     </g>\n     <g id=\"text_7\">\n      <!-- 150 -->\n      <g transform=\"translate(7.2 121.548026) scale(0.1 -0.1)\">\n       <use xlink:href=\"#DejaVuSans-31\"/>\n       <use xlink:href=\"#DejaVuSans-35\" x=\"63.623047\"/>\n       <use xlink:href=\"#DejaVuSans-30\" x=\"127.246094\"/>\n      </g>\n     </g>\n    </g>\n    <g id=\"ytick_5\">\n     <g id=\"line2d_8\">\n      <g>\n       <use xlink:href=\"#m0b12f06bdf\" x=\"33.2875\" y=\"149.453352\" style=\"stroke: #000000; stroke-width: 0.8\"/>\n      </g>\n     </g>\n     <g id=\"text_8\">\n      <!-- 200 -->\n      <g transform=\"translate(7.2 153.252571) scale(0.1 -0.1)\">\n       <use xlink:href=\"#DejaVuSans-32\"/>\n       <use xlink:href=\"#DejaVuSans-30\" x=\"63.623047\"/>\n       <use xlink:href=\"#DejaVuSans-30\" x=\"127.246094\"/>\n      </g>\n     </g>\n    </g>\n    <g id=\"ytick_6\">\n     <g id=\"line2d_9\">\n      <g>\n       <use xlink:href=\"#m0b12f06bdf\" x=\"33.2875\" y=\"181.157898\" style=\"stroke: #000000; stroke-width: 0.8\"/>\n      </g>\n     </g>\n     <g id=\"text_9\">\n      <!-- 250 -->\n      <g transform=\"translate(7.2 184.957116) scale(0.1 -0.1)\">\n       <use xlink:href=\"#DejaVuSans-32\"/>\n       <use xlink:href=\"#DejaVuSans-35\" x=\"63.623047\"/>\n       <use xlink:href=\"#DejaVuSans-30\" x=\"127.246094\"/>\n      </g>\n     </g>\n    </g>\n   </g>\n   <g id=\"patch_3\">\n    <path d=\"M 33.2875 184.645398 \nL 33.2875 22.318125 \n\" style=\"fill: none; stroke: #000000; stroke-width: 0.8; stroke-linejoin: miter; stroke-linecap: square\"/>\n   </g>\n   <g id=\"patch_4\">\n    <path d=\"M 195.614773 184.645398 \nL 195.614773 22.318125 \n\" style=\"fill: none; stroke: #000000; stroke-width: 0.8; stroke-linejoin: miter; stroke-linecap: square\"/>\n   </g>\n   <g id=\"patch_5\">\n    <path d=\"M 33.2875 184.645398 \nL 195.614773 184.645398 \n\" style=\"fill: none; stroke: #000000; stroke-width: 0.8; stroke-linejoin: miter; stroke-linecap: square\"/>\n   </g>\n   <g id=\"patch_6\">\n    <path d=\"M 33.2875 22.318125 \nL 195.614773 22.318125 \n\" style=\"fill: none; stroke: #000000; stroke-width: 0.8; stroke-linejoin: miter; stroke-linecap: square\"/>\n   </g>\n   <g id=\"text_10\">\n    <!-- real_part -->\n    <g transform=\"translate(87.779261 16.318125) scale(0.12 -0.12)\">\n     <defs>\n      <path id=\"DejaVuSans-72\" d=\"M 2631 2963 \nQ 2534 3019 2420 3045 \nQ 2306 3072 2169 3072 \nQ 1681 3072 1420 2755 \nQ 1159 2438 1159 1844 \nL 1159 0 \nL 581 0 \nL 581 3500 \nL 1159 3500 \nL 1159 2956 \nQ 1341 3275 1631 3429 \nQ 1922 3584 2338 3584 \nQ 2397 3584 2469 3576 \nQ 2541 3569 2628 3553 \nL 2631 2963 \nz\n\" transform=\"scale(0.015625)\"/>\n      <path id=\"DejaVuSans-65\" d=\"M 3597 1894 \nL 3597 1613 \nL 953 1613 \nQ 991 1019 1311 708 \nQ 1631 397 2203 397 \nQ 2534 397 2845 478 \nQ 3156 559 3463 722 \nL 3463 178 \nQ 3153 47 2828 -22 \nQ 2503 -91 2169 -91 \nQ 1331 -91 842 396 \nQ 353 884 353 1716 \nQ 353 2575 817 3079 \nQ 1281 3584 2069 3584 \nQ 2775 3584 3186 3129 \nQ 3597 2675 3597 1894 \nz\nM 3022 2063 \nQ 3016 2534 2758 2815 \nQ 2500 3097 2075 3097 \nQ 1594 3097 1305 2825 \nQ 1016 2553 972 2059 \nL 3022 2063 \nz\n\" transform=\"scale(0.015625)\"/>\n      <path id=\"DejaVuSans-61\" d=\"M 2194 1759 \nQ 1497 1759 1228 1600 \nQ 959 1441 959 1056 \nQ 959 750 1161 570 \nQ 1363 391 1709 391 \nQ 2188 391 2477 730 \nQ 2766 1069 2766 1631 \nL 2766 1759 \nL 2194 1759 \nz\nM 3341 1997 \nL 3341 0 \nL 2766 0 \nL 2766 531 \nQ 2569 213 2275 61 \nQ 1981 -91 1556 -91 \nQ 1019 -91 701 211 \nQ 384 513 384 1019 \nQ 384 1609 779 1909 \nQ 1175 2209 1959 2209 \nL 2766 2209 \nL 2766 2266 \nQ 2766 2663 2505 2880 \nQ 2244 3097 1772 3097 \nQ 1472 3097 1187 3025 \nQ 903 2953 641 2809 \nL 641 3341 \nQ 956 3463 1253 3523 \nQ 1550 3584 1831 3584 \nQ 2591 3584 2966 3190 \nQ 3341 2797 3341 1997 \nz\n\" transform=\"scale(0.015625)\"/>\n      <path id=\"DejaVuSans-6c\" d=\"M 603 4863 \nL 1178 4863 \nL 1178 0 \nL 603 0 \nL 603 4863 \nz\n\" transform=\"scale(0.015625)\"/>\n      <path id=\"DejaVuSans-5f\" d=\"M 3263 -1063 \nL 3263 -1509 \nL -63 -1509 \nL -63 -1063 \nL 3263 -1063 \nz\n\" transform=\"scale(0.015625)\"/>\n      <path id=\"DejaVuSans-70\" d=\"M 1159 525 \nL 1159 -1331 \nL 581 -1331 \nL 581 3500 \nL 1159 3500 \nL 1159 2969 \nQ 1341 3281 1617 3432 \nQ 1894 3584 2278 3584 \nQ 2916 3584 3314 3078 \nQ 3713 2572 3713 1747 \nQ 3713 922 3314 415 \nQ 2916 -91 2278 -91 \nQ 1894 -91 1617 61 \nQ 1341 213 1159 525 \nz\nM 3116 1747 \nQ 3116 2381 2855 2742 \nQ 2594 3103 2138 3103 \nQ 1681 3103 1420 2742 \nQ 1159 2381 1159 1747 \nQ 1159 1113 1420 752 \nQ 1681 391 2138 391 \nQ 2594 391 2855 752 \nQ 3116 1113 3116 1747 \nz\n\" transform=\"scale(0.015625)\"/>\n      <path id=\"DejaVuSans-74\" d=\"M 1172 4494 \nL 1172 3500 \nL 2356 3500 \nL 2356 3053 \nL 1172 3053 \nL 1172 1153 \nQ 1172 725 1289 603 \nQ 1406 481 1766 481 \nL 2356 481 \nL 2356 0 \nL 1766 0 \nQ 1100 0 847 248 \nQ 594 497 594 1153 \nL 594 3053 \nL 172 3053 \nL 172 3500 \nL 594 3500 \nL 594 4494 \nL 1172 4494 \nz\n\" transform=\"scale(0.015625)\"/>\n     </defs>\n     <use xlink:href=\"#DejaVuSans-72\"/>\n     <use xlink:href=\"#DejaVuSans-65\" x=\"38.863281\"/>\n     <use xlink:href=\"#DejaVuSans-61\" x=\"100.386719\"/>\n     <use xlink:href=\"#DejaVuSans-6c\" x=\"161.666016\"/>\n     <use xlink:href=\"#DejaVuSans-5f\" x=\"189.449219\"/>\n     <use xlink:href=\"#DejaVuSans-70\" x=\"239.449219\"/>\n     <use xlink:href=\"#DejaVuSans-61\" x=\"302.925781\"/>\n     <use xlink:href=\"#DejaVuSans-72\" x=\"364.205078\"/>\n     <use xlink:href=\"#DejaVuSans-74\" x=\"405.318359\"/>\n    </g>\n   </g>\n  </g>\n  <g id=\"axes_2\">\n   <g id=\"patch_7\">\n    <path d=\"M 228.080227 184.645398 \nL 390.4075 184.645398 \nL 390.4075 22.318125 \nL 228.080227 22.318125 \nz\n\" style=\"fill: #ffffff\"/>\n   </g>\n   <g clip-path=\"url(#p30d9f3a4e6)\">\n    <image xlink:href=\"data:image/png;base64,\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\" id=\"image923d86faa5\" transform=\"scale(1 -1) translate(0 -162.72)\" x=\"228.080227\" y=\"-21.925398\" width=\"162.72\" height=\"162.72\"/>\n   </g>\n   <g id=\"matplotlib.axis_3\">\n    <g id=\"xtick_4\">\n     <g id=\"line2d_10\">\n      <g>\n       <use xlink:href=\"#md626552d79\" x=\"228.397273\" y=\"184.645398\" style=\"stroke: #000000; stroke-width: 0.8\"/>\n      </g>\n     </g>\n     <g id=\"text_11\">\n      <!-- 0 -->\n      <g transform=\"translate(225.216023 199.243835) scale(0.1 -0.1)\">\n       <use xlink:href=\"#DejaVuSans-30\"/>\n      </g>\n     </g>\n    </g>\n    <g id=\"xtick_5\">\n     <g id=\"line2d_11\">\n      <g>\n       <use xlink:href=\"#md626552d79\" x=\"291.806364\" y=\"184.645398\" style=\"stroke: #000000; stroke-width: 0.8\"/>\n      </g>\n     </g>\n     <g id=\"text_12\">\n      <!-- 100 -->\n      <g transform=\"translate(282.262614 199.243835) scale(0.1 -0.1)\">\n       <use xlink:href=\"#DejaVuSans-31\"/>\n       <use xlink:href=\"#DejaVuSans-30\" x=\"63.623047\"/>\n       <use xlink:href=\"#DejaVuSans-30\" x=\"127.246094\"/>\n      </g>\n     </g>\n    </g>\n    <g id=\"xtick_6\">\n     <g id=\"line2d_12\">\n      <g>\n       <use xlink:href=\"#md626552d79\" x=\"355.215455\" y=\"184.645398\" style=\"stroke: #000000; stroke-width: 0.8\"/>\n      </g>\n     </g>\n     <g id=\"text_13\">\n      <!-- 200 -->\n      <g transform=\"translate(345.671705 199.243835) scale(0.1 -0.1)\">\n       <use xlink:href=\"#DejaVuSans-32\"/>\n       <use xlink:href=\"#DejaVuSans-30\" x=\"63.623047\"/>\n       <use xlink:href=\"#DejaVuSans-30\" x=\"127.246094\"/>\n      </g>\n     </g>\n    </g>\n   </g>\n   <g id=\"matplotlib.axis_4\">\n    <g id=\"ytick_7\">\n     <g id=\"line2d_13\">\n      <g>\n       <use xlink:href=\"#m0b12f06bdf\" x=\"228.080227\" y=\"22.63517\" style=\"stroke: #000000; stroke-width: 0.8\"/>\n      </g>\n     </g>\n     <g id=\"text_14\">\n      <!-- 0 -->\n      <g transform=\"translate(214.717727 26.434389) scale(0.1 -0.1)\">\n       <use xlink:href=\"#DejaVuSans-30\"/>\n      </g>\n     </g>\n    </g>\n    <g id=\"ytick_8\">\n     <g id=\"line2d_14\">\n      <g>\n       <use xlink:href=\"#m0b12f06bdf\" x=\"228.080227\" y=\"54.339716\" style=\"stroke: #000000; stroke-width: 0.8\"/>\n      </g>\n     </g>\n     <g id=\"text_15\">\n      <!-- 50 -->\n      <g transform=\"translate(208.355227 58.138935) scale(0.1 -0.1)\">\n       <use xlink:href=\"#DejaVuSans-35\"/>\n       <use xlink:href=\"#DejaVuSans-30\" x=\"63.623047\"/>\n      </g>\n     </g>\n    </g>\n    <g id=\"ytick_9\">\n     <g id=\"line2d_15\">\n      <g>\n       <use xlink:href=\"#m0b12f06bdf\" x=\"228.080227\" y=\"86.044261\" style=\"stroke: #000000; stroke-width: 0.8\"/>\n      </g>\n     </g>\n     <g id=\"text_16\">\n      <!-- 100 -->\n      <g transform=\"translate(201.992727 89.84348) scale(0.1 -0.1)\">\n       <use xlink:href=\"#DejaVuSans-31\"/>\n       <use xlink:href=\"#DejaVuSans-30\" x=\"63.623047\"/>\n       <use xlink:href=\"#DejaVuSans-30\" x=\"127.246094\"/>\n      </g>\n     </g>\n    </g>\n    <g id=\"ytick_10\">\n     <g id=\"line2d_16\">\n      <g>\n       <use xlink:href=\"#m0b12f06bdf\" x=\"228.080227\" y=\"117.748807\" style=\"stroke: #000000; stroke-width: 0.8\"/>\n      </g>\n     </g>\n     <g id=\"text_17\">\n      <!-- 150 -->\n      <g transform=\"translate(201.992727 121.548026) scale(0.1 -0.1)\">\n       <use xlink:href=\"#DejaVuSans-31\"/>\n       <use xlink:href=\"#DejaVuSans-35\" x=\"63.623047\"/>\n       <use xlink:href=\"#DejaVuSans-30\" x=\"127.246094\"/>\n      </g>\n     </g>\n    </g>\n    <g id=\"ytick_11\">\n     <g id=\"line2d_17\">\n      <g>\n       <use xlink:href=\"#m0b12f06bdf\" x=\"228.080227\" y=\"149.453352\" style=\"stroke: #000000; stroke-width: 0.8\"/>\n      </g>\n     </g>\n     <g id=\"text_18\">\n      <!-- 200 -->\n      <g transform=\"translate(201.992727 153.252571) scale(0.1 -0.1)\">\n       <use xlink:href=\"#DejaVuSans-32\"/>\n       <use xlink:href=\"#DejaVuSans-30\" x=\"63.623047\"/>\n       <use xlink:href=\"#DejaVuSans-30\" x=\"127.246094\"/>\n      </g>\n     </g>\n    </g>\n    <g id=\"ytick_12\">\n     <g id=\"line2d_18\">\n      <g>\n       <use xlink:href=\"#m0b12f06bdf\" x=\"228.080227\" y=\"181.157898\" style=\"stroke: #000000; stroke-width: 0.8\"/>\n      </g>\n     </g>\n     <g id=\"text_19\">\n      <!-- 250 -->\n      <g transform=\"translate(201.992727 184.957116) scale(0.1 -0.1)\">\n       <use xlink:href=\"#DejaVuSans-32\"/>\n       <use xlink:href=\"#DejaVuSans-35\" x=\"63.623047\"/>\n       <use xlink:href=\"#DejaVuSans-30\" x=\"127.246094\"/>\n      </g>\n     </g>\n    </g>\n   </g>\n   <g id=\"patch_8\">\n    <path d=\"M 228.080227 184.645398 \nL 228.080227 22.318125 \n\" style=\"fill: none; stroke: #000000; stroke-width: 0.8; stroke-linejoin: miter; stroke-linecap: square\"/>\n   </g>\n   <g id=\"patch_9\">\n    <path d=\"M 390.4075 184.645398 \nL 390.4075 22.318125 \n\" style=\"fill: none; stroke: #000000; stroke-width: 0.8; stroke-linejoin: miter; stroke-linecap: square\"/>\n   </g>\n   <g id=\"patch_10\">\n    <path d=\"M 228.080227 184.645398 \nL 390.4075 184.645398 \n\" style=\"fill: none; stroke: #000000; stroke-width: 0.8; stroke-linejoin: miter; stroke-linecap: square\"/>\n   </g>\n   <g id=\"patch_11\">\n    <path d=\"M 228.080227 22.318125 \nL 390.4075 22.318125 \n\" style=\"fill: none; stroke: #000000; stroke-width: 0.8; stroke-linejoin: miter; stroke-linecap: square\"/>\n   </g>\n   <g id=\"text_20\">\n    <!-- imag_part -->\n    <g transform=\"translate(278.941989 16.318125) scale(0.12 -0.12)\">\n     <defs>\n      <path id=\"DejaVuSans-69\" d=\"M 603 3500 \nL 1178 3500 \nL 1178 0 \nL 603 0 \nL 603 3500 \nz\nM 603 4863 \nL 1178 4863 \nL 1178 4134 \nL 603 4134 \nL 603 4863 \nz\n\" transform=\"scale(0.015625)\"/>\n      <path id=\"DejaVuSans-6d\" d=\"M 3328 2828 \nQ 3544 3216 3844 3400 \nQ 4144 3584 4550 3584 \nQ 5097 3584 5394 3201 \nQ 5691 2819 5691 2113 \nL 5691 0 \nL 5113 0 \nL 5113 2094 \nQ 5113 2597 4934 2840 \nQ 4756 3084 4391 3084 \nQ 3944 3084 3684 2787 \nQ 3425 2491 3425 1978 \nL 3425 0 \nL 2847 0 \nL 2847 2094 \nQ 2847 2600 2669 2842 \nQ 2491 3084 2119 3084 \nQ 1678 3084 1418 2786 \nQ 1159 2488 1159 1978 \nL 1159 0 \nL 581 0 \nL 581 3500 \nL 1159 3500 \nL 1159 2956 \nQ 1356 3278 1631 3431 \nQ 1906 3584 2284 3584 \nQ 2666 3584 2933 3390 \nQ 3200 3197 3328 2828 \nz\n\" transform=\"scale(0.015625)\"/>\n      <path id=\"DejaVuSans-67\" d=\"M 2906 1791 \nQ 2906 2416 2648 2759 \nQ 2391 3103 1925 3103 \nQ 1463 3103 1205 2759 \nQ 947 2416 947 1791 \nQ 947 1169 1205 825 \nQ 1463 481 1925 481 \nQ 2391 481 2648 825 \nQ 2906 1169 2906 1791 \nz\nM 3481 434 \nQ 3481 -459 3084 -895 \nQ 2688 -1331 1869 -1331 \nQ 1566 -1331 1297 -1286 \nQ 1028 -1241 775 -1147 \nL 775 -588 \nQ 1028 -725 1275 -790 \nQ 1522 -856 1778 -856 \nQ 2344 -856 2625 -561 \nQ 2906 -266 2906 331 \nL 2906 616 \nQ 2728 306 2450 153 \nQ 2172 0 1784 0 \nQ 1141 0 747 490 \nQ 353 981 353 1791 \nQ 353 2603 747 3093 \nQ 1141 3584 1784 3584 \nQ 2172 3584 2450 3431 \nQ 2728 3278 2906 2969 \nL 2906 3500 \nL 3481 3500 \nL 3481 434 \nz\n\" transform=\"scale(0.015625)\"/>\n     </defs>\n     <use xlink:href=\"#DejaVuSans-69\"/>\n     <use xlink:href=\"#DejaVuSans-6d\" x=\"27.783203\"/>\n     <use xlink:href=\"#DejaVuSans-61\" x=\"125.195312\"/>\n     <use xlink:href=\"#DejaVuSans-67\" x=\"186.474609\"/>\n     <use xlink:href=\"#DejaVuSans-5f\" x=\"249.951172\"/>\n     <use xlink:href=\"#DejaVuSans-70\" x=\"299.951172\"/>\n     <use xlink:href=\"#DejaVuSans-61\" x=\"363.427734\"/>\n     <use xlink:href=\"#DejaVuSans-72\" x=\"424.707031\"/>\n     <use xlink:href=\"#DejaVuSans-74\" x=\"465.820312\"/>\n    </g>\n   </g>\n  </g>\n </g>\n <defs>\n  <clipPath id=\"pc9d01ff122\">\n   <rect x=\"33.2875\" y=\"22.318125\" width=\"162.327273\" height=\"162.327273\"/>\n  </clipPath>\n  <clipPath id=\"p30d9f3a4e6\">\n   <rect x=\"228.080227\" y=\"22.318125\" width=\"162.327273\" height=\"162.327273\"/>\n  </clipPath>\n </defs>\n</svg>\n",
      "text/plain": [
       "<Figure size 640x480 with 2 Axes>"
      ]
     },
     "metadata": {},
     "output_type": "display_data"
    }
   ],
   "source": [
    "new_ind=coord_4d[:,1:]\n",
    "new_ind=new_ind.astype(int)\n",
    "# print('new_ind:',new_ind)\n",
    "# print(new_ind)\n",
    "a=np.zeros((2,256,256))\n",
    "# print('new_ind[0,:, 0]:',new_ind[:, 0])\n",
    "a[new_ind[:, 0], new_ind[:, 1], new_ind[:, 2]] = 1\n",
    "\n",
    "import matplotlib.pyplot as plt\n",
    "plt.subplot(121)\n",
    "plt.imshow(a[0,:,:].squeeze(),cmap='gray')\n",
    "plt.title('real_part')\n",
    "\n",
    "plt.subplot(122)\n",
    "plt.imshow(a[1,:,:].squeeze(),cmap='gray')\n",
    "plt.title('imag_part')\n",
    "# print(np.unique(a))\n"
   ]
  },
  {
   "cell_type": "code",
   "execution_count": 59,
   "metadata": {},
   "outputs": [
    {
     "name": "stdout",
     "output_type": "stream",
     "text": [
      "1.0\n"
     ]
    }
   ],
   "source": [
    "import numpy as np\n",
    "import matplotlib.pyplot as plt\n",
    "from mpl_toolkits.mplot3d import Axes3D\n",
    "\n",
    "# 创建一个 5x5 的二维数组\n",
    "arr = a\n",
    "\n",
    "# # 创建一个网格，用于表示每个数据点的位置\n",
    "# x, y = np.meshgrid(np.arange(arr.shape[0]), np.arange(arr.shape[1]))\n",
    "\n",
    "# # 创建一个 3D 图形对象\n",
    "# fig = plt.figure()\n",
    "# ax = fig.add_subplot(111, projection='3d')\n",
    "\n",
    "# # 画出 3D 图形\n",
    "# ax.plot_surface(x, y, arr)\n",
    "\n",
    "# # 设置坐标轴标签\n",
    "# ax.set_xlabel('X Label')\n",
    "# ax.set_ylabel('Y Label')\n",
    "# ax.set_zlabel('Z Label')\n",
    "# ax.set_zlim(np.min(arr), np.max(arr))\n",
    "# # 显示图形\n",
    "# plt.show()\n",
    "print(np.max(arr))"
   ]
  },
  {
   "cell_type": "code",
   "execution_count": 3,
   "metadata": {},
   "outputs": [
    {
     "name": "stdout",
     "output_type": "stream",
     "text": [
      "807775500.0 58547\n",
      "2315265000.0 26859\n"
     ]
    }
   ],
   "source": [
    "print(np.max(real), np.argmax(real))\n",
    "print(np.max(imag), np.argmax(imag))"
   ]
  },
  {
   "attachments": {},
   "cell_type": "markdown",
   "metadata": {},
   "source": []
  },
  {
   "cell_type": "code",
   "execution_count": 4,
   "metadata": {},
   "outputs": [
    {
     "name": "stdout",
     "output_type": "stream",
     "text": [
      "228.69921875\n",
      "179\n",
      "[0.0001487] [5.093156]\n"
     ]
    }
   ],
   "source": [
    "print(58547 / 256)\n",
    "print(58547 % 256)\n",
    "print(u[:,0, 228, 179], v[:,0, 228, 179])"
   ]
  },
  {
   "cell_type": "code",
   "execution_count": 5,
   "metadata": {},
   "outputs": [
    {
     "name": "stdout",
     "output_type": "stream",
     "text": [
      "104.91796875\n",
      "235\n",
      "[8.761485e-05] [-6.3972135]\n"
     ]
    }
   ],
   "source": [
    "print(26859/256)\n",
    "print(26859% 256)\n",
    "print(u[:,1, 104, 235], v[:,1, 104, 235])"
   ]
  },
  {
   "cell_type": "code",
   "execution_count": 6,
   "metadata": {},
   "outputs": [],
   "source": [
    "loss_mask = scio.loadmat('./loss_mask.mat')['loss_mask']"
   ]
  },
  {
   "cell_type": "code",
   "execution_count": 10,
   "metadata": {},
   "outputs": [
    {
     "name": "stdout",
     "output_type": "stream",
     "text": [
      "4412.591 4385.368\n"
     ]
    }
   ],
   "source": [
    "ud = u[loss_mask > 0.001]\n",
    "vd = v[loss_mask > 0.001]\n",
    "\n",
    "print(u.max(),v.max())"
   ]
  },
  {
   "cell_type": "code",
   "execution_count": 11,
   "metadata": {},
   "outputs": [
    {
     "name": "stdout",
     "output_type": "stream",
     "text": [
      "3.0171628 4.94576e-13\n",
      "np.mean(np.sqrt(np.sum(np.square(vd)))): 8772.177\n"
     ]
    }
   ],
   "source": [
    "de = np.square(ud - vd) / (np.square(vd) + np.mean(np.sqrt(np.sum(np.square(vd)))))\n",
    "print(np.max(de), np.min(de))\n",
    "print('np.mean(np.sqrt(np.sum(np.square(vd)))):',np.mean(np.sqrt(np.sum(np.square(vd)))))"
   ]
  },
  {
   "attachments": {},
   "cell_type": "markdown",
   "metadata": {},
   "source": [
    "np.mean(np.sqrt(np.sum(np.square(vd))))数值过大\n",
    "如何除以一个对最小值影响不大的量"
   ]
  }
 ],
 "metadata": {
  "kernelspec": {
   "display_name": "base",
   "language": "python",
   "name": "python3"
  },
  "language_info": {
   "codemirror_mode": {
    "name": "ipython",
    "version": 3
   },
   "file_extension": ".py",
   "mimetype": "text/x-python",
   "name": "python",
   "nbconvert_exporter": "python",
   "pygments_lexer": "ipython3",
   "version": "3.10.9"
  },
  "orig_nbformat": 4
 },
 "nbformat": 4,
 "nbformat_minor": 2
}
